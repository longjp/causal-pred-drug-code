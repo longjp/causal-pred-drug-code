{
 "cells": [
  {
   "cell_type": "code",
   "execution_count": 59,
   "metadata": {
    "id": "0_TkCyf-gySw"
   },
   "outputs": [],
   "source": [
    "# fit linear regression model for LODO validation\n",
    "# and compare to performance of Cellbox\n",
    "import pandas as pd\n",
    "import numpy as np\n",
    "from sklearn.linear_model import LinearRegression\n",
    "import statistics\n"
   ]
  },
  {
   "cell_type": "code",
   "execution_count": 60,
   "metadata": {
    "colab": {
     "base_uri": "https://localhost:8080/"
    },
    "id": "H1Zp-mDgg01G",
    "outputId": "8a00e1f5-5dc8-4657-d02d-5382faf241e0"
   },
   "outputs": [
    {
     "name": "stdout",
     "output_type": "stream",
     "text": [
      "{'aMEK': 0.8203552039176905, 'aAKT': 0.6760469536146299, 'aHDAC': 0.7214189176457171, 'aMDM2': 0.9256889947226677, 'aJAK': 0.9115876220832254, 'aBRAFm': 0.8719448047546596, 'aPKC': 0.677952596450868, 'aSTAT3': 0.9021462697367114, 'amTOR': 0.5914147254624399, 'aPI3K': 0.7791282904349198, 'aCDK4': 0.6342000388819491, 'aSRC': 0.8985285213268935}\n"
     ]
    }
   ],
   "source": [
    "## determine performance of linear regression\n",
    "df = pd.read_csv('../data/expert.csv')\n",
    "\n",
    "# leave_one drug out\n",
    "clf = LinearRegression()\n",
    "def linear_regression(response,train,test,tags,temp_data):\n",
    "    new_df = pd.DataFrame()\n",
    "    for i in range(response.shape[1]-12):\n",
    "        y = response.iloc[:,i]\n",
    "        train_y = y[y.index.isin(tags)]\n",
    "        test_y = y[~y.index.isin(tags)]   \n",
    "        clf.fit(train, train_y)      \n",
    "        clf_y = clf.predict(test)\n",
    "        new_reponse = test_y.name\n",
    "        new_df[new_reponse] = clf_y\n",
    "    return new_df\n",
    "\n",
    "results_dict = {}\n",
    "for i in range(-12,0):\n",
    "    col = df.columns[i]\n",
    "    \n",
    "    train = df[df[col] == 0]\n",
    "    train_tag = train.index\n",
    "    \n",
    "    X = df.iloc[:,-12:]\n",
    "    train_x = X[X.index.isin(train_tag)]\n",
    "    test_x = X[~X.index.isin(train_tag)]\n",
    "    \n",
    "    temp_data = df[~df.index.isin(train_tag)].iloc[:,:87].reset_index(drop = True)\n",
    "    \n",
    "    my_result = linear_regression(df, train_x, test_x, train_tag, temp_data)\n",
    "    my_result_x = temp_data\n",
    "    x_all = my_result_x.values.flatten()\n",
    "    my_result_y = my_result\n",
    "    y_all = my_result_y.values.flatten()\n",
    "    r = np.corrcoef(x_all, y_all)[0][1]\n",
    "    \n",
    "    results_dict[col] = r\n",
    "    \n",
    "print(results_dict)"
   ]
  },
  {
   "cell_type": "code",
   "execution_count": 61,
   "metadata": {
    "colab": {
     "base_uri": "https://localhost:8080/"
    },
    "id": "810xrWpTifVq",
    "outputId": "1a7700c0-df69-4848-e1e9-5b399bc85f48"
   },
   "outputs": [
    {
     "data": {
      "text/plain": [
       "0.7842010782526977"
      ]
     },
     "execution_count": 61,
     "metadata": {},
     "output_type": "execute_result"
    }
   ],
   "source": [
    "values = results_dict.values()\n",
    "statistics.mean(values)"
   ]
  },
  {
   "cell_type": "code",
   "execution_count": 62,
   "metadata": {
    "colab": {
     "base_uri": "https://localhost:8080/"
    },
    "id": "DCBprD8Jh6lf",
    "outputId": "76186811-69e6-434e-e2c9-949c9ca62f7d"
   },
   "outputs": [
    {
     "data": {
      "text/plain": [
       "0.7801666666666667"
      ]
     },
     "execution_count": 62,
     "metadata": {},
     "output_type": "execute_result"
    }
   ],
   "source": [
    "lr_result=list(results_dict.values())\n",
    "cellbox = [0.846, 0.79, 0.706, 0.888, 0.888, 0.881, 0.672, 0.549, 0.891, 0.89, 0.605, 0.756]\n",
    "statistics.mean(cellbox)        "
   ]
  },
  {
   "cell_type": "code",
   "execution_count": 63,
   "metadata": {
    "id": "gEpZH_zmE3Nc"
   },
   "outputs": [
    {
     "name": "stderr",
     "output_type": "stream",
     "text": [
      "/Users/jplong/opt/miniconda3/lib/python3.7/site-packages/seaborn/_decorators.py:43: FutureWarning: Pass the following variables as keyword args: x, y. From version 0.12, the only valid positional argument will be `data`, and passing other arguments without an explicit keyword will result in an error or misinterpretation.\n",
      "  FutureWarning\n",
      "/Users/jplong/opt/miniconda3/lib/python3.7/site-packages/seaborn/_decorators.py:43: FutureWarning: Pass the following variables as keyword args: x, y. From version 0.12, the only valid positional argument will be `data`, and passing other arguments without an explicit keyword will result in an error or misinterpretation.\n",
      "  FutureWarning\n"
     ]
    },
    {
     "data": {
      "image/png": "[encoded data removed]",
      "text/plain": [
       "<Figure size 432x432 with 1 Axes>"
      ]
     },
     "metadata": {
      "needs_background": "light"
     },
     "output_type": "display_data"
    }
   ],
   "source": [
    "#box plot between CellBox and Linear Regression\n",
    "import seaborn as sns\n",
    "import matplotlib.pyplot as plt\n",
    "\n",
    "\n",
    "tmp_x, tmp_y = np.hstack([[2*np.ones(12), lr_result],\n",
    "                          [np.ones(12), cellbox]])\n",
    "\n",
    "sns.swarmplot(tmp_x, tmp_y, size = 9, alpha = 0.7)\n",
    "sns.boxplot(tmp_x, tmp_y, linewidth=2, width = 0.2, boxprops=dict(alpha=0.4))\n",
    "\n",
    "plt.xlim(-.5, 1.5)\n",
    "plt.ylim(0, 1.0)\n",
    "#ax2.set_title('Leave one drug out', \n",
    "#              weight='bold', size=16)\n",
    "plt.yticks([0,0.2,0.4,0.6,0.8,1.0],size=15)\n",
    "plt.ylabel('Correlation',size=15)\n",
    "plt.xticks(np.arange(0,2),['Cellbox','Linear Regression'],size=15)\n",
    "#plt.xticklabels([,size=15)\n",
    "\n",
    "plt.rcParams['figure.figsize'] = 6, 6\n",
    "plt.tight_layout()\n",
    "#ax2.set_aspect(aspect=2)\n",
    "plt.savefig('LODO.pdf')\n"
   ]
  },
  {
   "cell_type": "code",
   "execution_count": null,
   "metadata": {},
   "outputs": [],
   "source": []
  }
 ],
 "metadata": {
  "colab": {
   "authorship_tag": "ABX9TyNewM8mlpwV2JUsMZkhV6ES",
   "include_colab_link": true,
   "name": "leave_one_out.ipynb",
   "provenance": []
  },
  "kernelspec": {
   "display_name": "Python 3 (ipykernel)",
   "language": "python",
   "name": "python3"
  },
  "language_info": {
   "codemirror_mode": {
    "name": "ipython",
    "version": 3
   },
   "file_extension": ".py",
   "mimetype": "text/x-python",
   "name": "python",
   "nbconvert_exporter": "python",
   "pygments_lexer": "ipython3",
   "version": "3.7.12"
  }
 },
 "nbformat": 4,
 "nbformat_minor": 1
}
